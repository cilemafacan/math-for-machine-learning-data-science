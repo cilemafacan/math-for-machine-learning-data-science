{
 "cells": [
  {
   "cell_type": "markdown",
   "metadata": {},
   "source": [
    "# Solving Linear Systems: 3 variables"
   ]
  },
  {
   "cell_type": "code",
   "execution_count": null,
   "metadata": {},
   "outputs": [],
   "source": [
    "import numpy as np"
   ]
  },
  {
   "cell_type": "markdown",
   "metadata": {},
   "source": [
    "## 1. Representing and Solving a System of Linear Equations using Matrices\n",
    "3 variable linear system:\n",
    "\n",
    "$$\\begin{cases} \n",
    "4x_1-3x_2+x_3=-10, \\\\ 2x_1+x_2+3x_3=0, \\\\ -x_1+2x_2-5x_3=17, \\end{cases}\\tag{1}$$\n",
    "\n",
    "Solving this system of equations means finding the values of , $x_1$, $x_2$, $x_3$ that will satisfy all 3 equations.\n",
    "Let's create the matrix to solve the system of equations with numpy."
   ]
  },
  {
   "cell_type": "code",
   "execution_count": null,
   "metadata": {},
   "outputs": [],
   "source": [
    "coeff = np.array([[4, -3, 1],\n",
    "                  [2, 1, 3],\n",
    "                  [-1, 2, -5]],\n",
    "                  dtype=np.dtype(float))\n",
    "\n",
    "const = np.array([-10, 0, 17], dtype=np.dtype(float))\n",
    "\n",
    "print(\"Coefficient Matrix:\")\n",
    "print(coeff)\n",
    "print(\"\\nConst Array:\", const)"
   ]
  },
  {
   "cell_type": "code",
   "execution_count": null,
   "metadata": {},
   "outputs": [],
   "source": [
    "print(\"Shape of coefficient matrix:\", coeff.shape)\n",
    "print(\"Shape of const array:\", const.shape)"
   ]
  },
  {
   "cell_type": "markdown",
   "metadata": {},
   "source": [
    "Let's find the solution for this system using *__np.linalg.solve()__*:"
   ]
  },
  {
   "cell_type": "code",
   "execution_count": null,
   "metadata": {},
   "outputs": [],
   "source": [
    "solution = np.linalg.solve(coeff, const)\n",
    "\n",
    "print(\"Solution x1, x2 and x3:\", solution)"
   ]
  },
  {
   "cell_type": "markdown",
   "metadata": {},
   "source": [
    "Let's calculate the determinant using `np.linalg.det(A)` function:"
   ]
  },
  {
   "cell_type": "code",
   "execution_count": null,
   "metadata": {},
   "outputs": [],
   "source": [
    "det = np.linalg.det(coeff)\n",
    "\n",
    "print(\"Determinant of the system:\", det)"
   ]
  },
  {
   "cell_type": "markdown",
   "metadata": {},
   "source": [
    "## 2. Solving System of Linear Equations using Row Reduction\n",
    "Although in mathematical concept the solution of a system is done manually, this process is easier in programming. The solution of a system is also possible with the row reduction method. In order to apply the row reduction method, let's stack the coefficient and constant matrix with *__np.hstack()__*.\n"
   ]
  },
  {
   "cell_type": "code",
   "execution_count": null,
   "metadata": {},
   "outputs": [],
   "source": [
    "system = np.hstack((coeff, const.reshape(3,1)))\n",
    "\n",
    "print(\"System:\")\n",
    "print(system)"
   ]
  },
  {
   "cell_type": "markdown",
   "metadata": {},
   "source": [
    "Performing some basic operations on the matrices does not change the system solution.\n",
    "- Multiply any row by a non-zero number\n",
    "- Add two rows and exchange one of the original rows with the result of the addition\n",
    "- Swap rows\n",
    "\n",
    "We may need to perform these operations several times in very large matrices."
   ]
  },
  {
   "cell_type": "code",
   "execution_count": null,
   "metadata": {},
   "outputs": [],
   "source": [
    "def MultiplyRow(matrix, row_num, row_num_multiple):\n",
    "    new_matrix = matrix.copy()\n",
    "    new_matrix[row_num] = new_matrix[row_num] * row_num_multiple\n",
    "    return new_matrix\n",
    "\n",
    "print(\"Original Matrix:\")\n",
    "print(system)\n",
    "print(\"\\nMatrix after its third row is multiplied by 2:\")\n",
    "print(MultiplyRow(system, 2, 2))"
   ]
  },
  {
   "cell_type": "code",
   "execution_count": null,
   "metadata": {},
   "outputs": [],
   "source": [
    "def AddRows(matrix, row_num_1, row_num_2, row_num_multiple):\n",
    "    new_matrix = matrix.copy()\n",
    "    new_matrix[row_num_2] = row_num_multiple * new_matrix[row_num_1] + new_matrix[row_num_2]\n",
    "    return new_matrix\n",
    "\n",
    "print(\"Original Matrix:\")\n",
    "print(system)\n",
    "print(\"\\nMatrix after exchange of the third row with the sum of itself and second row multiplied by 1/2:\")\n",
    "print(AddRows(system, 1, 2, 1/2))"
   ]
  },
  {
   "cell_type": "code",
   "execution_count": null,
   "metadata": {},
   "outputs": [],
   "source": [
    "def SwapRows(matrix, row_num_1, row_num_2):\n",
    "    new_matrix = matrix.copy()\n",
    "    new_matrix[[row_num_1, row_num_2]] = new_matrix[[row_num_2, row_num_1]]\n",
    "    return new_matrix\n",
    "\n",
    "print(\"Original Matrix:\")\n",
    "print(system)\n",
    "print(\"\\nMatrix after exchange its first and third rows:\")\n",
    "print(SwapRows(system, 0, 2))"
   ]
  },
  {
   "cell_type": "markdown",
   "metadata": {},
   "source": [
    "We can use the operations we have defined for row reduction. In order to do this in the manual solution, we must set the first element of the first row to 1 or -1. This is of no use when calculating with Python, but let's calculate it for convenience."
   ]
  },
  {
   "cell_type": "code",
   "execution_count": null,
   "metadata": {},
   "outputs": [],
   "source": [
    "new_matrix = SwapRows(system, 0, 2)\n",
    "\n",
    "print(new_matrix)"
   ]
  },
  {
   "cell_type": "markdown",
   "metadata": {},
   "source": [
    "Let's continue with some elementary operations. The first elements of the second and third rows must be 0."
   ]
  },
  {
   "cell_type": "code",
   "execution_count": null,
   "metadata": {},
   "outputs": [],
   "source": [
    "new_matrix = AddRows(new_matrix, 0, 1, 2)\n",
    "\n",
    "print(new_matrix)"
   ]
  },
  {
   "cell_type": "code",
   "execution_count": null,
   "metadata": {},
   "outputs": [],
   "source": [
    "new_matrix = AddRows(new_matrix, 0, 2, 4)\n",
    "\n",
    "print(new_matrix)"
   ]
  },
  {
   "cell_type": "markdown",
   "metadata": {},
   "source": [
    "We must set the second element of the third row to 0."
   ]
  },
  {
   "cell_type": "code",
   "execution_count": null,
   "metadata": {},
   "outputs": [],
   "source": [
    "new_matrix = AddRows(new_matrix, 1, 2, -1)\n",
    "\n",
    "print(new_matrix)"
   ]
  },
  {
   "cell_type": "markdown",
   "metadata": {},
   "source": [
    "It is easy now to find the value of $x_3$ from the third row, as it corresponds to the equation $-12x_3=24$. Let's divide the row by -12:"
   ]
  },
  {
   "cell_type": "code",
   "execution_count": null,
   "metadata": {},
   "outputs": [],
   "source": [
    "new_matrix = MultiplyRow(new_matrix, 2, -1/12)\n",
    "\n",
    "print(new_matrix)"
   ]
  },
  {
   "cell_type": "code",
   "execution_count": null,
   "metadata": {},
   "outputs": [],
   "source": [
    "x3 = -2\n",
    "x2 = (new_matrix[1, 3] - new_matrix[1, 2] * x3) / new_matrix[1, 1]\n",
    "x1 = (new_matrix[0, 3] - new_matrix[0, 2] * x3 - new_matrix[0, 1] * x2) / new_matrix[0, 0]\n",
    "\n",
    "print(x1, x2, x3)"
   ]
  },
  {
   "cell_type": "markdown",
   "metadata": {},
   "source": [
    "## 3. Systems of Linear Equations with No Solutions\n",
    "Given another system of linear equations:\n",
    "\n",
    "$$\\begin{cases} \n",
    "x_1+x_2+x_3=2, \\\\ x_2-3x_3=1, \\\\ 2x_1+x_2+5x_3=0, \\end{cases}\\tag{2}$$\n",
    "\n",
    "let's find the determinant of the corresponding matrix."
   ]
  },
  {
   "cell_type": "code",
   "execution_count": null,
   "metadata": {},
   "outputs": [],
   "source": [
    "coeff = np.array([[1, 1, 1],\n",
    "                  [0, 1, -3],\n",
    "                  [2, 1, 5]], dtype=np.dtype(float))\n",
    "\n",
    "const = np.array([2, 1, 0], dtype=np.dtype(float))\n",
    "\n",
    "det = np.linalg.det(coeff)\n",
    "\n",
    "print(\"Determinant of the system:\", det)"
   ]
  },
  {
   "cell_type": "markdown",
   "metadata": {},
   "source": [
    "Since the determinant of the matrix is 0, the system does not have a unique solution. The matrix is singular, has either infinitely many solutions or no solutions."
   ]
  },
  {
   "cell_type": "code",
   "execution_count": null,
   "metadata": {},
   "outputs": [],
   "source": [
    "solution = np.linalg.solve(coeff, const)\n",
    "print(solution)"
   ]
  },
  {
   "cell_type": "code",
   "execution_count": null,
   "metadata": {},
   "outputs": [],
   "source": [
    "system = np.hstack((coeff, const.reshape(3,1)))\n",
    "print(system)"
   ]
  },
  {
   "cell_type": "code",
   "execution_count": null,
   "metadata": {},
   "outputs": [],
   "source": [
    "new_matrix = AddRows(system, 0, 2, -2)\n",
    "print(new_matrix)"
   ]
  },
  {
   "cell_type": "code",
   "execution_count": null,
   "metadata": {},
   "outputs": [],
   "source": [
    "new_matrix = AddRows(new_matrix, 1, 2, 1)\n",
    "print(new_matrix)"
   ]
  },
  {
   "cell_type": "markdown",
   "metadata": {},
   "source": [
    "The last row will correspond to the equation  0=−3 which has no solution. "
   ]
  },
  {
   "cell_type": "markdown",
   "metadata": {},
   "source": [
    "## 4 - System of Linear Equations with Infinite Number of Solutions\n",
    "\n",
    "You can bring system $(2)$ to consistency by changing only the free coefficients:\n",
    "\n",
    "$$\\begin{cases} \n",
    "x_1+x_2+x_3=2, \\\\ x_2-3x_3=1, \\\\ 2x_1+x_2+5x_3=3. \\end{cases}\\tag{3}$$\n",
    "\n",
    "Define the new array of free coefficients:"
   ]
  },
  {
   "cell_type": "code",
   "execution_count": null,
   "metadata": {},
   "outputs": [],
   "source": [
    "coeff = np.array([[1, 1, 1],\n",
    "                  [0, 1, -3],\n",
    "                  [2, 1, 5]], dtype=np.dtype(float))\n",
    "\n",
    "const = np.array([2, 1, 3], dtype=np.dtype(float))\n",
    "\n",
    "system = np.hstack((coeff, const.reshape(3,1)))\n",
    "print(system)"
   ]
  },
  {
   "cell_type": "code",
   "execution_count": null,
   "metadata": {},
   "outputs": [],
   "source": [
    "new_matrix = AddRows(system, 0, 2, -2)\n",
    "print(new_matrix)"
   ]
  },
  {
   "cell_type": "code",
   "execution_count": null,
   "metadata": {},
   "outputs": [],
   "source": [
    "new_matrix = AddRows(new_matrix, 1, 2, 1)\n",
    "print(new_matrix)"
   ]
  },
  {
   "cell_type": "markdown",
   "metadata": {},
   "source": [
    "Thus from the corresponding linear system\n",
    "\n",
    "$$\\begin{cases} \n",
    "x_1+x_2+x_3=2, \\\\ x_2-3x_3=1, \\\\ 0=0, \\end{cases}\\tag{4}$$\n",
    "\n",
    "you can find that $x_2=1+3x_3$, substitute it into the first equation and find $x_1$. Thus the solutions of the linear system $(3)$ are:\n",
    "\n",
    "$$\\begin{cases} \n",
    "x_1=1-4x_3, \\\\ x_2=1+3x_3, \\end{cases}\\tag{5}$$\n",
    "\n",
    "where $x_3$ is any real number."
   ]
  }
 ],
 "metadata": {
  "kernelspec": {
   "display_name": "python",
   "language": "python",
   "name": "python3"
  },
  "language_info": {
   "codemirror_mode": {
    "name": "ipython",
    "version": 3
   },
   "file_extension": ".py",
   "mimetype": "text/x-python",
   "name": "python",
   "nbconvert_exporter": "python",
   "pygments_lexer": "ipython3",
   "version": "3.12.2"
  }
 },
 "nbformat": 4,
 "nbformat_minor": 2
}
