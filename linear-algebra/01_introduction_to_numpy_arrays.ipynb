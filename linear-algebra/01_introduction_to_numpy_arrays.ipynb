{
 "cells": [
  {
   "cell_type": "markdown",
   "metadata": {},
   "source": [
    "# Basics of numpy"
   ]
  },
  {
   "cell_type": "code",
   "execution_count": null,
   "metadata": {},
   "outputs": [],
   "source": [
    "import numpy as np"
   ]
  },
  {
   "cell_type": "markdown",
   "metadata": {},
   "source": [
    "## 1. How to create numpy arrays"
   ]
  },
  {
   "cell_type": "markdown",
   "metadata": {},
   "source": [
    "One Dimeasional Array"
   ]
  },
  {
   "cell_type": "code",
   "execution_count": null,
   "metadata": {},
   "outputs": [],
   "source": [
    "one_dim_array = np.array([10, 12])\n",
    "print(one_dim_array)"
   ]
  },
  {
   "cell_type": "markdown",
   "metadata": {},
   "source": [
    "Another way to create an array is to use the *__arange__* function. \n",
    "\n",
    "The *__arrange__* function returns an array of integer values starting from 0 up to the specific value it receives."
   ]
  },
  {
   "cell_type": "code",
   "execution_count": null,
   "metadata": {},
   "outputs": [],
   "source": [
    "array_a = np.arange(4)\n",
    "print(array_a)"
   ]
  },
  {
   "cell_type": "markdown",
   "metadata": {},
   "source": [
    "Creating an array starting from 1 to 20, incremented by 4"
   ]
  },
  {
   "cell_type": "code",
   "execution_count": null,
   "metadata": {},
   "outputs": [],
   "source": [
    "array_b = np.arange(1, 20, 4)\n",
    "print(array_b)"
   ]
  },
  {
   "cell_type": "markdown",
   "metadata": {},
   "source": [
    "*__np.linspace__* is used to create a 5-element array from the values starting from a starting value to the ending value."
   ]
  },
  {
   "cell_type": "code",
   "execution_count": null,
   "metadata": {},
   "outputs": [],
   "source": [
    "array_c = np.linspace(0, 20, 5)\n",
    "print(array_c)"
   ]
  },
  {
   "cell_type": "markdown",
   "metadata": {},
   "source": [
    "Built-in functions can also be of type *__np.float64__* by default, as is the case with the np.linspace function. The *__dtype__* parameter can be used to change this data type to *__int__*. dtype can be provided as a parameter in numpy built-in functions."
   ]
  },
  {
   "cell_type": "code",
   "execution_count": null,
   "metadata": {},
   "outputs": [],
   "source": [
    "array_d = np.linspace(0, 20, 5, dtype=int)\n",
    "print(array_d)"
   ]
  },
  {
   "cell_type": "code",
   "execution_count": null,
   "metadata": {},
   "outputs": [],
   "source": [
    "char_array = np.array(['Welcome to the my numpy tutorial'])\n",
    "print(char_array)\n",
    "print(char_array.dtype)"
   ]
  },
  {
   "cell_type": "markdown",
   "metadata": {},
   "source": [
    "U32 means 32-character unicode string."
   ]
  },
  {
   "cell_type": "markdown",
   "metadata": {},
   "source": [
    "## 2. More about numpy arrays"
   ]
  },
  {
   "cell_type": "markdown",
   "metadata": {},
   "source": [
    "- `np.ones()` - Returns a new array setting values to one.\n",
    "- `np.zeros()` - Returns a new array setting values to zero.\n",
    "- `np.empty()` - Returns a new uninitialized array. \n",
    "- `np.random.rand()` - Returns a new array with values chosen at random."
   ]
  },
  {
   "cell_type": "code",
   "execution_count": null,
   "metadata": {},
   "outputs": [],
   "source": [
    "ones_array = np.ones(3)\n",
    "print(ones_array)"
   ]
  },
  {
   "cell_type": "code",
   "execution_count": null,
   "metadata": {},
   "outputs": [],
   "source": [
    "zeros_array = np.zeros(3)\n",
    "print(zeros_array)"
   ]
  },
  {
   "cell_type": "code",
   "execution_count": null,
   "metadata": {},
   "outputs": [],
   "source": [
    "empty_array = np.empty(3)\n",
    "print(empty_array)"
   ]
  },
  {
   "cell_type": "code",
   "execution_count": null,
   "metadata": {},
   "outputs": [],
   "source": [
    "random_array = np.random.rand(3)\n",
    "print(random_array)"
   ]
  },
  {
   "cell_type": "markdown",
   "metadata": {},
   "source": [
    "## 3. Multidimensional Arrays"
   ]
  },
  {
   "cell_type": "markdown",
   "metadata": {},
   "source": [
    "With numpy, not only 1-D arrays but also multi-dimensional arrays such as 2-D and 3-D can be created."
   ]
  },
  {
   "cell_type": "code",
   "execution_count": null,
   "metadata": {},
   "outputs": [],
   "source": [
    "two_dim_array = np.array([[1, 2, 3], [4, 5, 6]])\n",
    "print(two_dim_array)"
   ]
  },
  {
   "cell_type": "markdown",
   "metadata": {},
   "source": [
    "Another way to create a multidimensional array is the *__np.reshape__* function. With *__np.reshape__*, we can resize a 1-D array and turn it into a multidimensional array."
   ]
  },
  {
   "cell_type": "code",
   "execution_count": null,
   "metadata": {},
   "outputs": [],
   "source": [
    "one_dim_array = np.array([[1, 2, 3, 4, 5, 6]])\n",
    "print(one_dim_array)\n",
    "\n",
    "multi_dim_array = np.reshape(one_dim_array, (3, 2))\n",
    "print(multi_dim_array)"
   ]
  },
  {
   "cell_type": "markdown",
   "metadata": {},
   "source": [
    "Finding the size, shape and total number of elements of an array"
   ]
  },
  {
   "cell_type": "markdown",
   "metadata": {},
   "source": [
    "- `ndarray.ndim` - Stores the number dimensions of the array. \n",
    "- `ndarray.shape` - Stores the shape of the array. Each number in the tuple denotes the lengths of each corresponding dimension.\n",
    "- `ndarray.size` - Stores the number of elements in the array."
   ]
  },
  {
   "cell_type": "code",
   "execution_count": null,
   "metadata": {},
   "outputs": [],
   "source": [
    "multi_dim_array.ndim"
   ]
  },
  {
   "cell_type": "code",
   "execution_count": null,
   "metadata": {},
   "outputs": [],
   "source": [
    "multi_dim_array.shape"
   ]
  },
  {
   "cell_type": "code",
   "execution_count": null,
   "metadata": {},
   "outputs": [],
   "source": [
    "multi_dim_array.size"
   ]
  },
  {
   "cell_type": "markdown",
   "metadata": {},
   "source": [
    "## 4. Mathematical operations on arrays"
   ]
  },
  {
   "cell_type": "markdown",
   "metadata": {},
   "source": [
    "Element-based addition, subtraction, multiplication and division can be performed in numpy arrays."
   ]
  },
  {
   "cell_type": "code",
   "execution_count": null,
   "metadata": {},
   "outputs": [],
   "source": [
    "array_1 = np.array([1, 2, 3, 4, 5])\n",
    "array_2 = np.array([6, 7, 8, 9, 10])\n",
    "\n",
    "# addition\n",
    "sum_array = array_1 + array_2\n",
    "\n",
    "# subtraction\n",
    "sub_array = array_1 - array_2\n",
    "\n",
    "# multiplication\n",
    "mul_array = array_1 * array_2\n",
    "\n",
    "# division\n",
    "div_array = array_1 / array_2\n",
    "\n",
    "print(sum_array)\n",
    "print(sub_array)\n",
    "print(mul_array)\n",
    "print(div_array)"
   ]
  },
  {
   "cell_type": "markdown",
   "metadata": {},
   "source": [
    "It is possible to multiply a *vector* with a *scalar* in numpy arrays. This concept is called __broadcasting__."
   ]
  },
  {
   "cell_type": "code",
   "execution_count": null,
   "metadata": {},
   "outputs": [],
   "source": [
    "vector = np.array([1, 2, 3, 4, 5])\n",
    "scalar = 2\n",
    "\n",
    "# multiplication\n",
    "mul_vector = vector * scalar\n",
    "print(mul_vector)"
   ]
  },
  {
   "cell_type": "markdown",
   "metadata": {},
   "source": [
    "## 5. Indexing and slicing"
   ]
  },
  {
   "cell_type": "markdown",
   "metadata": {},
   "source": [
    "With indexing, we can select a specific value from an array."
   ]
  },
  {
   "cell_type": "code",
   "execution_count": null,
   "metadata": {},
   "outputs": [],
   "source": [
    "array = np.array([1, 2, 3, 4, 5, 6,])\n",
    "print(array[2])"
   ]
  },
  {
   "cell_type": "markdown",
   "metadata": {},
   "source": [
    "There are two methods for selecting a specific value in a multidimensional array. The first is by entering the row and column values separately, and the other is by entering both the row and column values with a parentheses and separating them with a comma."
   ]
  },
  {
   "cell_type": "code",
   "execution_count": null,
   "metadata": {},
   "outputs": [],
   "source": [
    "two_dim_array = np.array([[1, 2, 3], [4, 5, 6]])\n",
    "print(two_dim_array[1][2])\n",
    "\n",
    "print(two_dim_array[1, 2])"
   ]
  },
  {
   "cell_type": "markdown",
   "metadata": {},
   "source": [
    "Slicing is an operation that returns subarrays in an array according to a certain rule.\n",
    "If no start value is given, this value is started from 0. If no end value is given, this value is initialized as array_length-1. If no step value is given, this value is initialized to 1.\n",
    "- For one-dimensional arrays, this operation is array[start_value:end_value:step_value].\n",
    "- In multidimensional arrays, this operation is array[0:2, :5].\n",
    "  \n",
    "This situation can be better understood with the following examples."
   ]
  },
  {
   "cell_type": "code",
   "execution_count": null,
   "metadata": {},
   "outputs": [],
   "source": [
    "array = np.array([1, 2, 3, 4, 5, 6, 7, 8, 9])\n",
    "sliced_array = array[2:5]\n",
    "print(sliced_array)"
   ]
  },
  {
   "cell_type": "code",
   "execution_count": null,
   "metadata": {},
   "outputs": [],
   "source": [
    "sliced_array = array[:5]\n",
    "print(sliced_array)"
   ]
  },
  {
   "cell_type": "code",
   "execution_count": null,
   "metadata": {},
   "outputs": [],
   "source": [
    "sliced_array = array[2:]\n",
    "print(sliced_array)"
   ]
  },
  {
   "cell_type": "code",
   "execution_count": null,
   "metadata": {},
   "outputs": [],
   "source": [
    "# start_value = 0, end_value = 9, step_value = 2\n",
    "sliced_array = array[::2]\n",
    "print(sliced_array)"
   ]
  },
  {
   "cell_type": "code",
   "execution_count": null,
   "metadata": {},
   "outputs": [],
   "source": [
    "two_dim_array = np.array([[1, 2, 3], [4, 5, 6], [7, 8, 9]])\n",
    "sliced_array = two_dim_array[0:2]\n",
    "\n",
    "print(sliced_array)"
   ]
  },
  {
   "cell_type": "code",
   "execution_count": null,
   "metadata": {},
   "outputs": [],
   "source": [
    "sliced_array = two_dim_array[1:3]\n",
    "print(sliced_array)"
   ]
  },
  {
   "cell_type": "code",
   "execution_count": null,
   "metadata": {},
   "outputs": [],
   "source": [
    "# get every rows, and only the first column\n",
    "sliced_array = two_dim_array[:, 0]\n",
    "print(sliced_array)"
   ]
  },
  {
   "cell_type": "markdown",
   "metadata": {},
   "source": [
    "## 6. Stacking and splitting"
   ]
  },
  {
   "cell_type": "markdown",
   "metadata": {},
   "source": [
    "We can combine or separate two or more arrays horizontally or vertically.\n",
    "\n",
    "- `np.vstack()` - Stacks arrays vertically.\n",
    "- `np.hstack()` - Stacks arrays horizontally.\n",
    "- `np.split()` - Splits an array into multiple sub-arrays."
   ]
  },
  {
   "cell_type": "code",
   "execution_count": null,
   "metadata": {},
   "outputs": [],
   "source": [
    "array_1 = np.array([[1, 2, 3], [4, 5, 6]])\n",
    "array_2 = np.array([[7, 8, 9], [10, 11, 12]])\n",
    "print(array_1)\n",
    "print(array_2)"
   ]
  },
  {
   "cell_type": "code",
   "execution_count": null,
   "metadata": {},
   "outputs": [],
   "source": [
    "vertical_stack = np.vstack((array_1, array_2))\n",
    "print(vertical_stack)"
   ]
  },
  {
   "cell_type": "code",
   "execution_count": null,
   "metadata": {},
   "outputs": [],
   "source": [
    "horizontal_stack = np.hstack((array_1, array_2))\n",
    "print(horizontal_stack)"
   ]
  },
  {
   "cell_type": "code",
   "execution_count": null,
   "metadata": {},
   "outputs": [],
   "source": [
    "vert_split_two = np.vsplit(vertical_stack, 2)\n",
    "print(vert_split_two)\n",
    "\n",
    "vert_split_four = np.vsplit(vertical_stack, 4)\n",
    "print(vert_split_four)\n",
    "\n",
    "vert_split_second = np.vsplit(vertical_stack, [1,2])\n",
    "print(vert_split_second)"
   ]
  },
  {
   "cell_type": "code",
   "execution_count": null,
   "metadata": {},
   "outputs": [],
   "source": [
    "horz_split_two = np.hsplit(horizontal_stack, 2)\n",
    "print(horz_split_two)\n",
    "\n",
    "horz_split_four = np.hsplit(horizontal_stack, 6)\n",
    "print(horz_split_four)\n",
    "\n",
    "horz_split_second = np.hsplit(horizontal_stack, [2])\n",
    "print(horz_split_second)"
   ]
  }
 ],
 "metadata": {
  "kernelspec": {
   "display_name": "base",
   "language": "python",
   "name": "python3"
  },
  "language_info": {
   "codemirror_mode": {
    "name": "ipython",
    "version": 3
   },
   "file_extension": ".py",
   "mimetype": "text/x-python",
   "name": "python",
   "nbconvert_exporter": "python",
   "pygments_lexer": "ipython3",
   "version": "3.12.2"
  },
  "orig_nbformat": 4
 },
 "nbformat": 4,
 "nbformat_minor": 2
}
